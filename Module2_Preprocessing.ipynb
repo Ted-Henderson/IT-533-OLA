{
  "nbformat": 4,
  "nbformat_minor": 0,
  "metadata": {
    "colab": {
      "provenance": [],
      "toc_visible": true,
      "collapsed_sections": [
        "zVUYtOoadfeb"
      ],
      "include_colab_link": true
    },
    "kernelspec": {
      "name": "python3",
      "display_name": "Python 3"
    },
    "language_info": {
      "name": "python"
    }
  },
  "cells": [
    {
      "cell_type": "markdown",
      "metadata": {
        "id": "view-in-github",
        "colab_type": "text"
      },
      "source": [
        "<a href=\"https://colab.research.google.com/github/Ted-Henderson/IT-533-OLA/blob/main/Module2_Preprocessing.ipynb\" target=\"_parent\"><img src=\"https://colab.research.google.com/assets/colab-badge.svg\" alt=\"Open In Colab\"/></a>"
      ]
    },
    {
      "cell_type": "markdown",
      "source": [
        "#**MODULE 2: Preprocessing aka Data Wrangling**\n",
        "\n",
        "<center>\n",
        "<img src= \"https://miro.medium.com/v2/resize:fit:720/format:webp/0*8cM_wNW7D9vCiAa5.png\">\n",
        "</center>\n",
        "\n",
        "Data wrangling can easily be one of the most complicated and confusing aspects of data mining. In fact it will take up about 60-70% of the time that you spend working on a dataset. And why is data wrangling so important? Because, yes, GIGO. So, this week, we will look at some very useful ways to make a dataset work for what you want to do with it! This is called preprocessing (or wrangling, or munging, or whatever the latest term-du-jour is going to be). In fact check out this job description: [ETL analyst](https://www.glassdoor.com/Career/etl-analyst-career_KO0,11.htm)--it's ALL ABOUT data wrangling!\n",
        "\n",
        "<center>\n",
        "<img src=\"https://miro.medium.com/v2/resize:fit:640/format:webp/0*Jkhwq0UM8UXe8gBm.png\">\n",
        "</center>\n",
        "\n",
        "So, in this module, you will learn how to\n",
        "* Subset and aggregate data to ensure you build the cleanest, most economical dataset possible\n",
        "* Transform data from one datatype to another\n",
        "* You have already learned how to clean and (somewhat) integrate data in the previous workbook.\n",
        "\n",
        "These activities are super important BEFORE we even start with any of the \"real data mining\"\n",
        "\n",
        "**Be sure to expand all the hidden cells, run all the code, and do all the exercises--you will need the techniques for your lesson planning!**\n"
      ],
      "metadata": {
        "id": "HWJVPK5EC58o"
      }
    },
    {
      "cell_type": "markdown",
      "source": [
        "##**The Goal**\n",
        "Big datasets are, well, big. We aren't talking about thousands of rows and 10 or so attributes (aka features, dimensions, or variables); we are talking about billions of rows with many thousands of dimensions. Think all-purchases-on-Amazon.com-the-Saturday-before-Christmas big.\n",
        "\n",
        "If you try to process that much data on your computer, guess what happens?\n",
        "\n",
        "<center>\n",
        "<img src=\"https://t4.ftcdn.net/jpg/05/59/39/65/360_F_559396565_1OMlX6HmsVNNuTLIBKXFQibqycB2vXQg.jpg\">\n",
        "</center>\n",
        "\n",
        "I will neither confirm nor deny that I may be speaking from experience. Ahem.\n",
        "\n",
        "So, in terms of big datasets, **BIGGER** does **NOT** mean **BETTER**. Instead, you'll want to think critically about what data from the big pool you need for your analysis and then work with only that subset.\n",
        "\n",
        "**To get started:**\n",
        "* **SKIM** [this post](https://medium.com/almabetter/data-preprocessing-techniques-6ea145684812) to get a sense of what lies ahead. We will come back to many of the techniques mentioned in this post, especially the linguistic ones, when we discuss Natural Language Processing.\n",
        "* **READ** [this blog post](https://www.shanelynn.ie/using-pandas-dataframe-creating-editing-viewing-data-in-python/) to see the most important data wrangling strategies in action.\n",
        "* **WATCH** the video below. This will give you a great overview of how to deal with any issues you may encounter in your dataset\n"
      ],
      "metadata": {
        "id": "QPplns3CPqj6"
      }
    },
    {
      "cell_type": "code",
      "source": [
        "from IPython.display import YouTubeVideo # This is the library I am calling to show you the YouTube video below\n",
        "YouTubeVideo('bDhvCp3_lYw')"
      ],
      "metadata": {
        "colab": {
          "base_uri": "https://localhost:8080/",
          "height": 322
        },
        "id": "f2AofWqICEpL",
        "outputId": "c58c7f0f-cebd-4dfe-d56f-fe3c8f89ee5e"
      },
      "execution_count": null,
      "outputs": [
        {
          "output_type": "execute_result",
          "data": {
            "text/plain": [
              "<IPython.lib.display.YouTubeVideo at 0x7a4f512b13c0>"
            ],
            "text/html": [
              "\n",
              "        <iframe\n",
              "            width=\"400\"\n",
              "            height=\"300\"\n",
              "            src=\"https://www.youtube.com/embed/bDhvCp3_lYw\"\n",
              "            frameborder=\"0\"\n",
              "            allowfullscreen\n",
              "            \n",
              "        ></iframe>\n",
              "        "
            ],
            "image/jpeg": "[encoded data removed]"
          },
          "metadata": {},
          "execution_count": 1
        }
      ]
    },
    {
      "cell_type": "markdown",
      "metadata": {
        "id": "bnVNWu8SBjIg"
      },
      "source": [
        "#**0. Preparation and Setup**\n",
        "We are working with our adult dataset again, so we're loading our libraries and our dataset just like last time."
      ]
    },
    {
      "cell_type": "code",
      "metadata": {
        "id": "vui8bv375v_v"
      },
      "source": [
        "import numpy as np\n",
        "import pandas as pd\n",
        "import matplotlib.pyplot as plt\n",
        "\n",
        "#Reading in the data as adult dataframe\n",
        "adult = pd.read_csv(\"https://raw.githubusercontent.com/shstreuber/Data-Mining/master/data/adult.data.simplified24.csv\")\n",
        "\n",
        "#Verifying that we can see the data\n",
        "adult.head()"
      ],
      "execution_count": null,
      "outputs": []
    },
    {
      "cell_type": "markdown",
      "source": [
        "#**1. Reducing the Dataset (and then some ...)**\n"
      ],
      "metadata": {
        "id": "NpW0VkiDE-Ua"
      }
    },
    {
      "cell_type": "markdown",
      "source": [
        "So, the idea is to reduce the dataset with which you are working to the smallest possible size and include ONLY the attributes AND the rows\n",
        "that are useful and meaningful. This requires editing your dataset:\n",
        "\n",
        "1. When you reduce the number of attributes or the number of rows, this is called **SUBSETTING**\n",
        "3. When you summarize rows based on a common attribute (like, \"all married people\" or \"all people under 17\"), that is called **AGGREGATION**\n",
        "\n",
        "There are some even fancier ways of determining how to reduce data. These are  called **[DIMENSIONALITY REDUCTION](https://www.geeksforgeeks.org/dimensionality-reduction/)**. Because they are somewhat advanced (and often not too practical), we will return to them later.\n",
        "\n",
        "The goal is to think critically (and do some math) about what the best attributes and rows are to include BEFORE you start processing your data. In other words: **PRE-PROCESSING**.\n",
        "\n",
        "Let's get started!"
      ],
      "metadata": {
        "id": "jK2X-XTJHdSi"
      }
    },
    {
      "cell_type": "markdown",
      "metadata": {
        "id": "lv1-1b64NW3e"
      },
      "source": [
        "##**1.1 Slicing and Subsetting**\n",
        "Slicing and subsetting are related. While Slicing requires indexing (i.e. using the absolute row and column numbers, starting with 0), subsetting does not require indexing.\n",
        "\n",
        "##**Slicing Magic: The iloc Operator**\n",
        "\n",
        "**iloc** allows you to define exactly the \"fields\" that you want to see:\n",
        "\n",
        "* `df.iloc[0:5,]` shows you the ROWS with the indices 0 through 4 (the first 5)\n",
        "* `df.iloc[:,0:5]` shows you the first five COLUMNS\n",
        "* `df.iloc[0:5,0:5]` shows you the first five ROWS and the first five COLUMNS\n",
        "\n",
        "Practice this below (remember to click on the \"start\" button to execute the code):"
      ]
    },
    {
      "cell_type": "code",
      "metadata": {
        "id": "apJgU5R35wAN"
      },
      "source": [
        "# Looking at only the first 5 rows\n",
        "adult.iloc[0:5,]"
      ],
      "execution_count": null,
      "outputs": []
    },
    {
      "cell_type": "markdown",
      "metadata": {
        "id": "kg6FS2RrHoBJ"
      },
      "source": [
        "Now, use the field below to display only the first five columns"
      ]
    },
    {
      "cell_type": "code",
      "metadata": {
        "id": "MKA95j9zHvGV"
      },
      "source": [
        "adult.iloc[:,0:5]"
      ],
      "execution_count": null,
      "outputs": []
    },
    {
      "cell_type": "markdown",
      "metadata": {
        "id": "ergDidB6HwGe"
      },
      "source": [
        "And now the first five columns and the first five rows:"
      ]
    },
    {
      "cell_type": "code",
      "metadata": {
        "id": "oWuq-gNbH7ok"
      },
      "source": [
        "adult.iloc[0:5,0:5]"
      ],
      "execution_count": null,
      "outputs": []
    },
    {
      "cell_type": "markdown",
      "metadata": {
        "id": "uHF3mS47H3ak"
      },
      "source": [
        "##Your Turn##\n",
        "Now use the code field below to save the first five columns and the first five rows into their own dataframe like this:\n",
        "\n",
        "`adult_[yourname]_short = adult.iloc[` ... followed by the actual iloc code and then display the contents:"
      ]
    },
    {
      "cell_type": "code",
      "metadata": {
        "id": "QKCXeS2FI0rX"
      },
      "source": [],
      "execution_count": null,
      "outputs": []
    },
    {
      "cell_type": "markdown",
      "metadata": {
        "id": "ueS-iE48Jg6s"
      },
      "source": [
        "##**1.2 Subsetting**\n",
        "Subsetting does not require knowing the index numbers for rows or columns. Instead, it sets up row-based filters. For more about subsetting, click [here](https://cmdlinetips.com/2018/02/how-to-subset-pandas-dataframe-based-on-values-of-a-column/) or continue below.\n",
        "\n",
        "What if we want to see only the people who are 90 years old?"
      ]
    },
    {
      "cell_type": "code",
      "metadata": {
        "scrolled": true,
        "id": "lA4t7HyV5wAU"
      },
      "source": [
        "adult[adult['age'] == 90] # NOTE here that == means \"equal to\"; it is NOT the mathematical equality operator!"
      ],
      "execution_count": null,
      "outputs": []
    },
    {
      "cell_type": "markdown",
      "metadata": {
        "id": "eAx8e6suKmZd"
      },
      "source": [
        "Now use <= 20 to find all the people who are younger than or equal to 20:"
      ]
    },
    {
      "cell_type": "code",
      "metadata": {
        "id": "eSGgGnYMK5hC"
      },
      "source": [],
      "execution_count": null,
      "outputs": []
    },
    {
      "cell_type": "markdown",
      "metadata": {
        "id": "loSahmiwK6OO"
      },
      "source": [
        "How about all the people who are older than 75?"
      ]
    },
    {
      "cell_type": "code",
      "metadata": {
        "id": "TQ-4-Jf-LF0_"
      },
      "source": [],
      "execution_count": null,
      "outputs": []
    },
    {
      "cell_type": "markdown",
      "metadata": {
        "id": "gMSgBN2GK_3g"
      },
      "source": [
        "If you are subsetting with strings, the strings need to be in single or double quotes. Below, we are looking for everyone with a Bachelors degree:"
      ]
    },
    {
      "cell_type": "code",
      "metadata": {
        "id": "yzNkMD7D5wAc"
      },
      "source": [
        "adult[adult['education'] == 'Bachelors']"
      ],
      "execution_count": null,
      "outputs": []
    },
    {
      "cell_type": "markdown",
      "source": [
        "##Your Turn\n",
        "Find all the people in the United-States. Then, find all the people from Cuba!"
      ],
      "metadata": {
        "id": "w-TvEXPqMVp6"
      }
    },
    {
      "cell_type": "code",
      "source": [],
      "metadata": {
        "id": "3i-oz48nMj0Z"
      },
      "execution_count": null,
      "outputs": []
    },
    {
      "cell_type": "code",
      "source": [],
      "metadata": {
        "id": "jVgRw5SBMyCi"
      },
      "execution_count": null,
      "outputs": []
    },
    {
      "cell_type": "markdown",
      "metadata": {
        "id": "wdechNwaOcUY"
      },
      "source": [
        "##**1.3 Building your own reduced dataset**\n",
        "Now you have all the tools you need to reduce your dataset (without changing its values--we'll do that in our next step) to a size that's\n",
        "\n",
        "1. Manageable for your hardware\n",
        "2. Practical for you to work with\n",
        "\n",
        "One of the WORST things you can do to yourself, your computer, and your instructor is to keep working with the HUGE dataset. That often leads to confusion and doesn't work well. Use **discernment and critical thinking** when working with data. Your future employer will thank you!\n",
        "\n",
        "Below are some of the techniquest that will help you:"
      ]
    },
    {
      "cell_type": "code",
      "metadata": {
        "id": "Stycvi2t5wA3"
      },
      "source": [
        "# Selecting multiple columns at the same time extracts a new DataFrame from your existing DataFrame.\n",
        "# For selection of multiple columns, the syntax is: square-brace selection with a list of column names,\n",
        "# e.g. data[['column_name_1', 'column_name_2']]\n",
        "adult[['age','education','sex']]"
      ],
      "execution_count": null,
      "outputs": []
    },
    {
      "cell_type": "code",
      "source": [
        "reduced_data = adult[['age','education','sex']]"
      ],
      "metadata": {
        "id": "m4N2NC5FakKy"
      },
      "execution_count": null,
      "outputs": []
    },
    {
      "cell_type": "code",
      "source": [
        "reduced_data"
      ],
      "metadata": {
        "id": "yf-HoDy9apL4",
        "colab": {
          "base_uri": "https://localhost:8080/",
          "height": 423
        },
        "outputId": "094089ac-f38c-4212-e18e-3cf63cb45ffd"
      },
      "execution_count": null,
      "outputs": [
        {
          "output_type": "execute_result",
          "data": {
            "text/plain": [
              "       age     education     sex\n",
              "0       39     Bachelors    Male\n",
              "1       50     Bachelors    Male\n",
              "2       38       HS-grad    Male\n",
              "3       53          11th    Male\n",
              "4       28     Bachelors  Female\n",
              "...    ...           ...     ...\n",
              "24995   41          10th    Male\n",
              "24996   19       HS-grad    Male\n",
              "24997   33       HS-grad  Female\n",
              "24998   21  Some-college    Male\n",
              "24999   25     Bachelors  Female\n",
              "\n",
              "[25000 rows x 3 columns]"
            ],
            "text/html": [
              "\n",
              "  <div id=\"df-9dd188b8-6d65-41c6-a62b-b7c6fbfc5591\" class=\"colab-df-container\">\n",
              "    <div>\n",
              "<style scoped>\n",
              "    .dataframe tbody tr th:only-of-type {\n",
              "        vertical-align: middle;\n",
              "    }\n",
              "\n",
              "    .dataframe tbody tr th {\n",
              "        vertical-align: top;\n",
              "    }\n",
              "\n",
              "    .dataframe thead th {\n",
              "        text-align: right;\n",
              "    }\n",
              "</style>\n",
              "<table border=\"1\" class=\"dataframe\">\n",
              "  <thead>\n",
              "    <tr style=\"text-align: right;\">\n",
              "      <th></th>\n",
              "      <th>age</th>\n",
              "      <th>education</th>\n",
              "      <th>sex</th>\n",
              "    </tr>\n",
              "  </thead>\n",
              "  <tbody>\n",
              "    <tr>\n",
              "      <th>0</th>\n",
              "      <td>39</td>\n",
              "      <td>Bachelors</td>\n",
              "      <td>Male</td>\n",
              "    </tr>\n",
              "    <tr>\n",
              "      <th>1</th>\n",
              "      <td>50</td>\n",
              "      <td>Bachelors</td>\n",
              "      <td>Male</td>\n",
              "    </tr>\n",
              "    <tr>\n",
              "      <th>2</th>\n",
              "      <td>38</td>\n",
              "      <td>HS-grad</td>\n",
              "      <td>Male</td>\n",
              "    </tr>\n",
              "    <tr>\n",
              "      <th>3</th>\n",
              "      <td>53</td>\n",
              "      <td>11th</td>\n",
              "      <td>Male</td>\n",
              "    </tr>\n",
              "    <tr>\n",
              "      <th>4</th>\n",
              "      <td>28</td>\n",
              "      <td>Bachelors</td>\n",
              "      <td>Female</td>\n",
              "    </tr>\n",
              "    <tr>\n",
              "      <th>...</th>\n",
              "      <td>...</td>\n",
              "      <td>...</td>\n",
              "      <td>...</td>\n",
              "    </tr>\n",
              "    <tr>\n",
              "      <th>24995</th>\n",
              "      <td>41</td>\n",
              "      <td>10th</td>\n",
              "      <td>Male</td>\n",
              "    </tr>\n",
              "    <tr>\n",
              "      <th>24996</th>\n",
              "      <td>19</td>\n",
              "      <td>HS-grad</td>\n",
              "      <td>Male</td>\n",
              "    </tr>\n",
              "    <tr>\n",
              "      <th>24997</th>\n",
              "      <td>33</td>\n",
              "      <td>HS-grad</td>\n",
              "      <td>Female</td>\n",
              "    </tr>\n",
              "    <tr>\n",
              "      <th>24998</th>\n",
              "      <td>21</td>\n",
              "      <td>Some-college</td>\n",
              "      <td>Male</td>\n",
              "    </tr>\n",
              "    <tr>\n",
              "      <th>24999</th>\n",
              "      <td>25</td>\n",
              "      <td>Bachelors</td>\n",
              "      <td>Female</td>\n",
              "    </tr>\n",
              "  </tbody>\n",
              "</table>\n",
              "<p>25000 rows × 3 columns</p>\n",
              "</div>\n",
              "    <div class=\"colab-df-buttons\">\n",
              "\n",
              "  <div class=\"colab-df-container\">\n",
              "    <button class=\"colab-df-convert\" onclick=\"convertToInteractive('df-9dd188b8-6d65-41c6-a62b-b7c6fbfc5591')\"\n",
              "            title=\"Convert this dataframe to an interactive table.\"\n",
              "            style=\"display:none;\">\n",
              "\n",
              "  <svg xmlns=\"http://www.w3.org/2000/svg\" height=\"24px\" viewBox=\"0 -960 960 960\">\n",
              "    <path d=\"M120-120v-720h720v720H120Zm60-500h600v-160H180v160Zm220 220h160v-160H400v160Zm0 220h160v-160H400v160ZM180-400h160v-160H180v160Zm440 0h160v-160H620v160ZM180-180h160v-160H180v160Zm440 0h160v-160H620v160Z\"/>\n",
              "  </svg>\n",
              "    </button>\n",
              "\n",
              "  <style>\n",
              "    .colab-df-container {\n",
              "      display:flex;\n",
              "      gap: 12px;\n",
              "    }\n",
              "\n",
              "    .colab-df-convert {\n",
              "      background-color: #E8F0FE;\n",
              "      border: none;\n",
              "      border-radius: 50%;\n",
              "      cursor: pointer;\n",
              "      display: none;\n",
              "      fill: #1967D2;\n",
              "      height: 32px;\n",
              "      padding: 0 0 0 0;\n",
              "      width: 32px;\n",
              "    }\n",
              "\n",
              "    .colab-df-convert:hover {\n",
              "      background-color: #E2EBFA;\n",
              "      box-shadow: 0px 1px 2px rgba(60, 64, 67, 0.3), 0px 1px 3px 1px rgba(60, 64, 67, 0.15);\n",
              "      fill: #174EA6;\n",
              "    }\n",
              "\n",
              "    .colab-df-buttons div {\n",
              "      margin-bottom: 4px;\n",
              "    }\n",
              "\n",
              "    [theme=dark] .colab-df-convert {\n",
              "      background-color: #3B4455;\n",
              "      fill: #D2E3FC;\n",
              "    }\n",
              "\n",
              "    [theme=dark] .colab-df-convert:hover {\n",
              "      background-color: #434B5C;\n",
              "      box-shadow: 0px 1px 3px 1px rgba(0, 0, 0, 0.15);\n",
              "      filter: drop-shadow(0px 1px 2px rgba(0, 0, 0, 0.3));\n",
              "      fill: #FFFFFF;\n",
              "    }\n",
              "  </style>\n",
              "\n",
              "    <script>\n",
              "      const buttonEl =\n",
              "        document.querySelector('#df-9dd188b8-6d65-41c6-a62b-b7c6fbfc5591 button.colab-df-convert');\n",
              "      buttonEl.style.display =\n",
              "        google.colab.kernel.accessAllowed ? 'block' : 'none';\n",
              "\n",
              "      async function convertToInteractive(key) {\n",
              "        const element = document.querySelector('#df-9dd188b8-6d65-41c6-a62b-b7c6fbfc5591');\n",
              "        const dataTable =\n",
              "          await google.colab.kernel.invokeFunction('convertToInteractive',\n",
              "                                                    [key], {});\n",
              "        if (!dataTable) return;\n",
              "\n",
              "        const docLinkHtml = 'Like what you see? Visit the ' +\n",
              "          '<a target=\"_blank\" href=https://colab.research.google.com/notebooks/data_table.ipynb>data table notebook</a>'\n",
              "          + ' to learn more about interactive tables.';\n",
              "        element.innerHTML = '';\n",
              "        dataTable['output_type'] = 'display_data';\n",
              "        await google.colab.output.renderOutput(dataTable, element);\n",
              "        const docLink = document.createElement('div');\n",
              "        docLink.innerHTML = docLinkHtml;\n",
              "        element.appendChild(docLink);\n",
              "      }\n",
              "    </script>\n",
              "  </div>\n",
              "\n",
              "\n",
              "<div id=\"df-d3fab093-258d-4bbc-adaa-190a517319fd\">\n",
              "  <button class=\"colab-df-quickchart\" onclick=\"quickchart('df-d3fab093-258d-4bbc-adaa-190a517319fd')\"\n",
              "            title=\"Suggest charts\"\n",
              "            style=\"display:none;\">\n",
              "\n",
              "<svg xmlns=\"http://www.w3.org/2000/svg\" height=\"24px\"viewBox=\"0 0 24 24\"\n",
              "     width=\"24px\">\n",
              "    <g>\n",
              "        <path d=\"M19 3H5c-1.1 0-2 .9-2 2v14c0 1.1.9 2 2 2h14c1.1 0 2-.9 2-2V5c0-1.1-.9-2-2-2zM9 17H7v-7h2v7zm4 0h-2V7h2v10zm4 0h-2v-4h2v4z\"/>\n",
              "    </g>\n",
              "</svg>\n",
              "  </button>\n",
              "\n",
              "<style>\n",
              "  .colab-df-quickchart {\n",
              "      --bg-color: #E8F0FE;\n",
              "      --fill-color: #1967D2;\n",
              "      --hover-bg-color: #E2EBFA;\n",
              "      --hover-fill-color: #174EA6;\n",
              "      --disabled-fill-color: #AAA;\n",
              "      --disabled-bg-color: #DDD;\n",
              "  }\n",
              "\n",
              "  [theme=dark] .colab-df-quickchart {\n",
              "      --bg-color: #3B4455;\n",
              "      --fill-color: #D2E3FC;\n",
              "      --hover-bg-color: #434B5C;\n",
              "      --hover-fill-color: #FFFFFF;\n",
              "      --disabled-bg-color: #3B4455;\n",
              "      --disabled-fill-color: #666;\n",
              "  }\n",
              "\n",
              "  .colab-df-quickchart {\n",
              "    background-color: var(--bg-color);\n",
              "    border: none;\n",
              "    border-radius: 50%;\n",
              "    cursor: pointer;\n",
              "    display: none;\n",
              "    fill: var(--fill-color);\n",
              "    height: 32px;\n",
              "    padding: 0;\n",
              "    width: 32px;\n",
              "  }\n",
              "\n",
              "  .colab-df-quickchart:hover {\n",
              "    background-color: var(--hover-bg-color);\n",
              "    box-shadow: 0 1px 2px rgba(60, 64, 67, 0.3), 0 1px 3px 1px rgba(60, 64, 67, 0.15);\n",
              "    fill: var(--button-hover-fill-color);\n",
              "  }\n",
              "\n",
              "  .colab-df-quickchart-complete:disabled,\n",
              "  .colab-df-quickchart-complete:disabled:hover {\n",
              "    background-color: var(--disabled-bg-color);\n",
              "    fill: var(--disabled-fill-color);\n",
              "    box-shadow: none;\n",
              "  }\n",
              "\n",
              "  .colab-df-spinner {\n",
              "    border: 2px solid var(--fill-color);\n",
              "    border-color: transparent;\n",
              "    border-bottom-color: var(--fill-color);\n",
              "    animation:\n",
              "      spin 1s steps(1) infinite;\n",
              "  }\n",
              "\n",
              "  @keyframes spin {\n",
              "    0% {\n",
              "      border-color: transparent;\n",
              "      border-bottom-color: var(--fill-color);\n",
              "      border-left-color: var(--fill-color);\n",
              "    }\n",
              "    20% {\n",
              "      border-color: transparent;\n",
              "      border-left-color: var(--fill-color);\n",
              "      border-top-color: var(--fill-color);\n",
              "    }\n",
              "    30% {\n",
              "      border-color: transparent;\n",
              "      border-left-color: var(--fill-color);\n",
              "      border-top-color: var(--fill-color);\n",
              "      border-right-color: var(--fill-color);\n",
              "    }\n",
              "    40% {\n",
              "      border-color: transparent;\n",
              "      border-right-color: var(--fill-color);\n",
              "      border-top-color: var(--fill-color);\n",
              "    }\n",
              "    60% {\n",
              "      border-color: transparent;\n",
              "      border-right-color: var(--fill-color);\n",
              "    }\n",
              "    80% {\n",
              "      border-color: transparent;\n",
              "      border-right-color: var(--fill-color);\n",
              "      border-bottom-color: var(--fill-color);\n",
              "    }\n",
              "    90% {\n",
              "      border-color: transparent;\n",
              "      border-bottom-color: var(--fill-color);\n",
              "    }\n",
              "  }\n",
              "</style>\n",
              "\n",
              "  <script>\n",
              "    async function quickchart(key) {\n",
              "      const quickchartButtonEl =\n",
              "        document.querySelector('#' + key + ' button');\n",
              "      quickchartButtonEl.disabled = true;  // To prevent multiple clicks.\n",
              "      quickchartButtonEl.classList.add('colab-df-spinner');\n",
              "      try {\n",
              "        const charts = await google.colab.kernel.invokeFunction(\n",
              "            'suggestCharts', [key], {});\n",
              "      } catch (error) {\n",
              "        console.error('Error during call to suggestCharts:', error);\n",
              "      }\n",
              "      quickchartButtonEl.classList.remove('colab-df-spinner');\n",
              "      quickchartButtonEl.classList.add('colab-df-quickchart-complete');\n",
              "    }\n",
              "    (() => {\n",
              "      let quickchartButtonEl =\n",
              "        document.querySelector('#df-d3fab093-258d-4bbc-adaa-190a517319fd button');\n",
              "      quickchartButtonEl.style.display =\n",
              "        google.colab.kernel.accessAllowed ? 'block' : 'none';\n",
              "    })();\n",
              "  </script>\n",
              "</div>\n",
              "    </div>\n",
              "  </div>\n"
            ],
            "application/vnd.google.colaboratory.intrinsic+json": {
              "type": "dataframe",
              "variable_name": "reduced_data",
              "summary": "{\n  \"name\": \"reduced_data\",\n  \"rows\": 25000,\n  \"fields\": [\n    {\n      \"column\": \"age\",\n      \"properties\": {\n        \"dtype\": \"number\",\n        \"std\": 13,\n        \"min\": 17,\n        \"max\": 90,\n        \"num_unique_values\": 72,\n        \"samples\": [\n          28,\n          69,\n          35\n        ],\n        \"semantic_type\": \"\",\n        \"description\": \"\"\n      }\n    },\n    {\n      \"column\": \"education\",\n      \"properties\": {\n        \"dtype\": \"category\",\n        \"num_unique_values\": 16,\n        \"samples\": [\n          \"Bachelors\",\n          \"HS-grad\",\n          \"Some-college\"\n        ],\n        \"semantic_type\": \"\",\n        \"description\": \"\"\n      }\n    },\n    {\n      \"column\": \"sex\",\n      \"properties\": {\n        \"dtype\": \"category\",\n        \"num_unique_values\": 2,\n        \"samples\": [\n          \"Female\",\n          \"Male\"\n        ],\n        \"semantic_type\": \"\",\n        \"description\": \"\"\n      }\n    }\n  ]\n}"
            }
          },
          "metadata": {},
          "execution_count": 10
        }
      ]
    },
    {
      "cell_type": "code",
      "metadata": {
        "id": "TyC2O5oZ5wA_"
      },
      "source": [
        "# Alternately, you can use numeric indexing with the iloc selector and a list of column numbers, e.g. data.iloc[:, [0,1,20,22]]\n",
        "# This allows you to specify colums, as well\n",
        "adult.iloc[0:5,[0,1,7,10,11]]"
      ],
      "execution_count": null,
      "outputs": []
    },
    {
      "cell_type": "markdown",
      "metadata": {
        "id": "U8QKaVQhQdGI"
      },
      "source": [
        "**AAAAAAND**, as they say, the piece de resistance: Combining row filters and column filters!"
      ]
    },
    {
      "cell_type": "code",
      "metadata": {
        "id": "MIqm9Fc4P408"
      },
      "source": [
        "adult[adult['education'] == 'Bachelors'].iloc[0:5,[0,1,2,10,11]]"
      ],
      "execution_count": null,
      "outputs": []
    },
    {
      "cell_type": "markdown",
      "metadata": {
        "id": "_5tZspDn0p7D"
      },
      "source": [
        "##Your Turn\n",
        "Now, complete the code below to build an adult_small dataframe with rows 70-80 and all columns. You will need this dataframe later. (REMEMBER that the index numbers start with 0!!!!!!)"
      ]
    },
    {
      "cell_type": "code",
      "metadata": {
        "id": "t-3fKZ1Q5wBO"
      },
      "source": [],
      "execution_count": null,
      "outputs": []
    },
    {
      "cell_type": "markdown",
      "metadata": {
        "id": "1JsVXZeM5wC_"
      },
      "source": [
        "## **1.4. Aggregation and Dimensionality Reduction**\n",
        "So far, we have learned the mechanics of making our datasets smaller based on practical deliberations--specifically, what columns and what rows we want in order to produce a valid analysis. The goal of Dimensionality Reduction is similar: To make our dataset smaller, so it's easier to handle. However, the reasons are different.\n",
        "\n",
        "With Dimensionality Reduction, we are looking at **the data themselves** to show us ways in which they can be summarized and simplified. This can happen as follows:\n",
        "- Column-based: Eliminate attributes that are bascially duplicates of one another\n",
        "- Row-based: Aggregate similar attribute levels in one level\n",
        "- Binning and Bucketing\n",
        "- Normalization of values\n",
        "\n",
        "We will learn about the first two bullet points below; we will come back to the last two bullet points once we have stepped through data transformation."
      ]
    },
    {
      "cell_type": "markdown",
      "metadata": {
        "id": "A06qMKwbR8RF"
      },
      "source": [
        "###Column-Based Dimensionality Reduction###\n",
        "In the adult dataset, 'maritalstatus' and 'relationship' look very closely related. If there is a 1:1 relationship between all data values (or at least most of them), this means that the information is really duplicate, so we can choose to eliminate one of these columns.\n",
        "\n",
        "Let's see if we need both of them."
      ]
    },
    {
      "cell_type": "code",
      "metadata": {
        "id": "X77-sQBz5wDA"
      },
      "source": [
        "household=adult[['relationship', 'maritalstatus']]\n",
        "household.groupby('relationship').sum()"
      ],
      "execution_count": null,
      "outputs": []
    },
    {
      "cell_type": "markdown",
      "metadata": {
        "id": "zVe0i9WxSprw"
      },
      "source": [
        "The output shows us that we have many different values in 'maritalstatus' that are tied to one value in 'relationship.' In relational database terms (for those of you who have taken a database class), this is basically a many-to-one relationship. What we are looking for is a one-to-one relationship. So, 'maritalstatus' and 'relationship' won't work.\n",
        "\n",
        "What if we look at this relationship the other way around, using 'maritalstatus' on the left, though?"
      ]
    },
    {
      "cell_type": "code",
      "metadata": {
        "id": "9MRnC_FV5wDF"
      },
      "source": [
        "household.groupby('maritalstatus').sum()"
      ],
      "execution_count": null,
      "outputs": []
    },
    {
      "cell_type": "markdown",
      "metadata": {
        "id": "DMsKFnB-T2Ex"
      },
      "source": [
        "Let's try setting a matrix that shows all unique combinations of 'relationship' and 'maritalstatus'. We will use relationship as index and use apply and lambda to sort maritalstatus according to that index."
      ]
    },
    {
      "cell_type": "code",
      "metadata": {
        "id": "V8Cp03IF5wDM"
      },
      "source": [
        "household2 = household.groupby('relationship').apply(lambda x: x['maritalstatus'].unique())\n",
        "household2"
      ],
      "execution_count": null,
      "outputs": []
    },
    {
      "cell_type": "markdown",
      "metadata": {
        "id": "Fg9LVetET_KJ"
      },
      "source": [
        "Can you turn this around and use 'maritalstatus' as index? Use the field below."
      ]
    },
    {
      "cell_type": "code",
      "metadata": {
        "id": "reB9BwBU5wDS"
      },
      "source": [],
      "execution_count": null,
      "outputs": []
    },
    {
      "cell_type": "markdown",
      "metadata": {
        "id": "l8IPpq7x5wDZ"
      },
      "source": [
        "So, we've looked at the connection between 'relationship' and 'maritalstatus' from all different sides--and we are still finding these one-to-many relationships that go both ways. Unless we join each unique value from one attribute with each unique value in the other attribute into the same column, we will need to keep both columns.\n",
        "\n",
        "Let's see if there is a better connection between 'educationyears' and 'education.'"
      ]
    },
    {
      "cell_type": "code",
      "metadata": {
        "id": "4kAqtYWv5wDa"
      },
      "source": [
        "degree=adult[['educationyears', 'education']]\n",
        "# degree.sort_values('educationyears')  # This gives us the entire list sorted, but we want to display the unique values\n",
        "# degree.groupby('educationyears').sum() # That's what we had before--we can do better!\n",
        "\n",
        "# Let's try setting a matrix that is indexed by educationyears. This is what apply and lambda x do.\n",
        "degree2 = degree.groupby('educationyears').apply(lambda x: x['education'].unique())\n",
        "degree2"
      ],
      "execution_count": null,
      "outputs": []
    },
    {
      "cell_type": "markdown",
      "metadata": {
        "id": "6aPgcMH9U9eN"
      },
      "source": [
        "##Your Turn\n",
        "\n",
        "Can you turn this around and use 'education' as index?"
      ]
    },
    {
      "cell_type": "code",
      "metadata": {
        "id": "in5CNK_g5wDg"
      },
      "source": [],
      "execution_count": null,
      "outputs": []
    },
    {
      "cell_type": "markdown",
      "metadata": {
        "id": "lcKY_1ej5wDl"
      },
      "source": [
        "In contrast to 'maritalstatus' and 'relationship, it seems that 'educationyears' and 'education' are uniquely related. This means we need only one of these columns. Since working with numbers is always easier, we choose 'educationyears' and will eliminate 'education'.\n",
        "To drop a columns, we can use a couple of methods:\n",
        "1. We can rebuild the dataframe (or a different dataframe) with only the columns that we want, for example: `adult4=adult[['age','race','sex','educationyears','income']]`--that kind of thing\n",
        "2. We can use the pandas drop function as explained here: https://pandas.pydata.org/pandas-docs/stable/generated/pandas.DataFrame.drop.html. Another explanation with a data frame sample is here: http://cmdlinetips.com/2018/04/how-to-drop-one-or-more-columns-in-pandas-dataframe/.  This is a better way to modify your dataframe.\n",
        "\n",
        "Now, let's build an adult4 dataframe that contains all columns of the adult dataframe EXCEPT 'education'"
      ]
    },
    {
      "cell_type": "code",
      "metadata": {
        "id": "9clijzIe5wDm"
      },
      "source": [
        "adult4 = adult.drop(['education'], axis = 1)\n",
        "adult4"
      ],
      "execution_count": null,
      "outputs": []
    },
    {
      "cell_type": "markdown",
      "metadata": {
        "id": "Ie52v5j25wDs"
      },
      "source": [
        "### Row-Based Dimensionality Reduction\n",
        "Along with setting a filter and storing the output in a separate dataframe as we have seen at the beginning of this file, you can also remove rows from a dataframe by using the “drop” function. To do so, you will need to  specify axis=0.\n",
        "\n",
        "Drop() removes rows based on “labels”, rather than numeric indexing. To delete rows based on their numeric position / index, use iloc to reassign the dataframe values, as in the examples below.\n",
        "\n",
        "Read more about drop() and axis values (0 or 1) [here](https://www.shanelynn.ie/pandas-drop-delete-dataframe-rows-columns/)."
      ]
    },
    {
      "cell_type": "code",
      "metadata": {
        "id": "KBuN1qKAZWtX"
      },
      "source": [
        "#Delete the rows with label 'white'\n",
        "#For label-based deletion, set the index first on the dataframe:\n",
        "adult5 = adult\n",
        "adult5 = adult5.set_index('race')\n",
        "adult5.head()"
      ],
      "execution_count": null,
      "outputs": []
    },
    {
      "cell_type": "code",
      "metadata": {
        "id": "K2UXA7h8bhBp"
      },
      "source": [
        "# Now we delete the rows where the index shows \"White\"\n",
        "adult5 = adult5.drop('White', axis=0) # Delete all rows with label 'White'\n",
        "adult5.head()"
      ],
      "execution_count": null,
      "outputs": []
    },
    {
      "cell_type": "code",
      "metadata": {
        "id": "hRvmeYe8WTdP"
      },
      "source": [
        "# We can also delete the rows with labels 0,1,5\n",
        "adult5 = adult.drop([0,1,5], axis=0)\n",
        "adult5.head()"
      ],
      "execution_count": null,
      "outputs": []
    },
    {
      "cell_type": "markdown",
      "metadata": {
        "id": "otpv7uqTXzzI"
      },
      "source": [
        "Check out the results above--notice how indices 0,1, and 5 are missing?\n",
        "\n",
        "##Your Turn\n",
        "\n",
        "Now, put everything together that you have learned so far, experiment a bit, and then use the space below to build a new adult6 dataframe that contains only rows of male individuals."
      ]
    },
    {
      "cell_type": "code",
      "metadata": {
        "id": "Ya_n9U_Q5wDt"
      },
      "source": [],
      "execution_count": null,
      "outputs": []
    },
    {
      "cell_type": "code",
      "execution_count": null,
      "metadata": {
        "id": "KltxTCDYCr6S"
      },
      "outputs": [],
      "source": []
    },
    {
      "cell_type": "code",
      "source": [],
      "metadata": {
        "id": "bCrT5j1mE9VW"
      },
      "execution_count": null,
      "outputs": []
    },
    {
      "cell_type": "code",
      "source": [],
      "metadata": {
        "id": "oMBd4gLfE9pM"
      },
      "execution_count": null,
      "outputs": []
    },
    {
      "cell_type": "markdown",
      "metadata": {
        "id": "zymnCB2E-szM"
      },
      "source": [
        "# **2. Transforming Data**\n",
        "As you have seen, numeric datatypes allow you to do much more fun math than string datatypes. You can count them, sum them, average them, boxplot them ... all that, while string datatypes, well they can be counted, so much is true--but that really is it.\n",
        "\n",
        "Take a look at this video below to see the next level of Data Wrangling in action--we will be using a few of these functions in the rest of this workbook:"
      ]
    },
    {
      "cell_type": "code",
      "source": [
        "YouTubeVideo('w3jQyl8ojJA')"
      ],
      "metadata": {
        "colab": {
          "base_uri": "https://localhost:8080/",
          "height": 322
        },
        "id": "QtRi6osNFjfc",
        "outputId": "ca1228d6-1507-4b91-d5c0-8bd7eea77cca"
      },
      "execution_count": null,
      "outputs": [
        {
          "output_type": "execute_result",
          "data": {
            "text/plain": [
              "<IPython.lib.display.YouTubeVideo at 0x7a4f3ec0ab90>"
            ],
            "text/html": [
              "\n",
              "        <iframe\n",
              "            width=\"400\"\n",
              "            height=\"300\"\n",
              "            src=\"https://www.youtube.com/embed/w3jQyl8ojJA\"\n",
              "            frameborder=\"0\"\n",
              "            allowfullscreen\n",
              "            \n",
              "        ></iframe>\n",
              "        "
            ],
            "image/jpeg": "[encoded data removed]"
          },
          "metadata": {},
          "execution_count": 22
        }
      ]
    },
    {
      "cell_type": "markdown",
      "metadata": {
        "id": "PJQHnuM45wBb"
      },
      "source": [
        "\n",
        "We want to transform a categorical attribute, in this case 'race', into a numeric datatype. The Python format for this operation is `DataFrame.astype(dtype, copy=True, errors='raise')`\n",
        "In our case, this would be something like\n",
        "* `adult_small.race.astype('int32')`\n",
        "* `adult_small.race.astype('category')`\n",
        "* `adult_small.race.astype('category', ordered=True)`\n",
        "\n",
        "Let's get started. First, let's verify our datatype for 'race'\n",
        "\n"
      ]
    },
    {
      "cell_type": "code",
      "metadata": {
        "id": "nzXWvcb35wBd"
      },
      "source": [
        "adult_small.race.dtypes"
      ],
      "execution_count": null,
      "outputs": []
    },
    {
      "cell_type": "markdown",
      "metadata": {
        "id": "ERq9GIGtcACB"
      },
      "source": [
        "'O' means 'object', which is basically a string value. Let's now transform our 'race' attribute to numeric values. Below are all the steps."
      ]
    },
    {
      "cell_type": "markdown",
      "metadata": {
        "id": "HocgWNiGqcIZ"
      },
      "source": [
        "## **2.1 Adding a column with the data we want to transform**\n",
        "We could theoretically transform the 'race' attribute in place, but if our code causes problems, we could mess up our entire dataframe. So, instead, we will first add a new column into which we will copy the contents of the 'race' attribute. In a second step, we will transform the values in that new column.\n",
        "\n",
        "Detailed explanations are in the code comments below."
      ]
    },
    {
      "cell_type": "code",
      "metadata": {
        "id": "Zpk1SU9w5wBu"
      },
      "source": [
        "# Creating a new attribute and populating it with the contents of the attribute that we want to transform.\n",
        "race_num=adult_small.race\n",
        "\n",
        "# Adding the new attribute to the dataframe\n",
        "adult_small['race_num'] = race_num\n",
        "\n",
        "# Checking the contents of the new attribute\n",
        "adult_small.race_num"
      ],
      "execution_count": null,
      "outputs": []
    },
    {
      "cell_type": "code",
      "metadata": {
        "id": "5c6aiJYUmwOn"
      },
      "source": [
        "# Let's check the shape now. Instead of 12 attributes, we should have 10 rows and 13 columns now because we have built a new race_num attribute\n",
        "adult_small.shape"
      ],
      "execution_count": null,
      "outputs": []
    },
    {
      "cell_type": "code",
      "metadata": {
        "id": "eJQe0tGsl7i-"
      },
      "source": [
        "# Now that we have the race_num column built, let's check the datatypes of both attributes.\n",
        "adult_small.dtypes[['race','race_num']]"
      ],
      "execution_count": null,
      "outputs": []
    },
    {
      "cell_type": "markdown",
      "metadata": {
        "id": "4KgdeN0Mqp9j"
      },
      "source": [
        "## **2.2 Transforming the values**\n",
        "To transform an object value to numeric, we need to get the numbers from somewhere. In our case, we will transform the object to category. That gives us the index numbers for the category. Then we will replace the string values with these index numbers for the category--and voila! we have a numeric transformation.\n",
        "(If you see any attribute replacement warnings as you run the code below, you can ignore them.)"
      ]
    },
    {
      "cell_type": "code",
      "metadata": {
        "scrolled": false,
        "id": "xLD7OLlm5wB1"
      },
      "source": [
        "# Here, we convert the race_num values to categorical (to obtain the index numbers)\n",
        "adult_small['race_num']= adult_small['race_num'].astype('category')\n",
        "\n",
        "# Now we replace the categories with their index numbers, i.e. the category codes\n",
        "adult_small['race_num']= adult_small['race_num'].cat.codes\n",
        "\n",
        "# Let's see what the datatypes look like now\n",
        "adult_small.dtypes[['race','race_num']]"
      ],
      "execution_count": null,
      "outputs": []
    },
    {
      "cell_type": "code",
      "metadata": {
        "id": "7xL7eGHW5wB8"
      },
      "source": [
        "# Now let's display the contents of both attributes to double-check\n",
        "adult_small[['race','race_num']]"
      ],
      "execution_count": null,
      "outputs": []
    },
    {
      "cell_type": "markdown",
      "metadata": {
        "id": "QDA_qvRzsOQX"
      },
      "source": [
        "**SUCCESS!** Now that we have worked the code out for our small proof-of-concept dataframe, we can apply it to the entire adult dataframe."
      ]
    },
    {
      "cell_type": "code",
      "metadata": {
        "id": "7o-UELnu5wCG"
      },
      "source": [
        "# First, we back the dataframe up.\n",
        "adult2=adult\n",
        "\n",
        "# Now we build the column and copy the original values into it\n",
        "adult2['race_num'] = adult2.race\n",
        "\n",
        "# Third, we convert race_num into categorical\n",
        "adult2['race_num']= adult2['race_num'].astype('category')\n",
        "\n",
        "# Then, we replace the strings with the category indices\n",
        "adult2['race_num']= adult2['race_num'].cat.codes\n",
        "\n",
        "# Now, we check the data types\n",
        "adult2.dtypes[['race','race_num']]"
      ],
      "execution_count": null,
      "outputs": []
    },
    {
      "cell_type": "markdown",
      "metadata": {
        "id": "PgGqvx7QtehQ"
      },
      "source": [
        "**YAY!** That worked, too. But how did pandas assign the numbers? Let's find out:"
      ]
    },
    {
      "cell_type": "code",
      "metadata": {
        "scrolled": true,
        "id": "FwGxPCDp5wCN"
      },
      "source": [
        "# Making a temporary new dataframe because it's so much easier to work with just 2 attributes\n",
        "race_exploration=adult2[['race','race_num']]\n",
        "race2=race_exploration.drop_duplicates()\n",
        "race2.sort_values(by=['race_num'])"
      ],
      "execution_count": null,
      "outputs": []
    },
    {
      "cell_type": "markdown",
      "metadata": {
        "id": "FRDyehO-n-7g"
      },
      "source": [
        "##**Your Turn**\n",
        "Explain in a couple of complete sentences the logic with which pandas has assigned the numbers for the race_num array."
      ]
    },
    {
      "cell_type": "markdown",
      "source": [
        "#**3. If you get stuck ...**"
      ],
      "metadata": {
        "id": "zVUYtOoadfeb"
      }
    },
    {
      "cell_type": "code",
      "source": [
        "# 1.1 Slicing and Subsetting\n",
        "# Now use the code field below to save the first five columns and the first five rows into their own dataframe like this:#\n",
        "adult_sonja_short = adult.iloc[0:5,0:5]\n",
        "adult_sonja_short"
      ],
      "metadata": {
        "id": "X0YfnDQdBPwE"
      },
      "execution_count": null,
      "outputs": []
    },
    {
      "cell_type": "code",
      "source": [
        "# 1.2 Subsetting\n",
        "# Now use <= 20 to find all the people who are younger than or equal to 20\n",
        "adult[adult['age'] <= 20]\n",
        "# How about all the people who are older than 75?\n",
        "adult[adult['age'] > 70]\n",
        "# Find all the people in the United-States\n",
        "adult[adult['nativecountry'] == 'United-States']\n",
        "# Then, find all the people from Cuba!\n",
        "adult[adult['nativecountry'] == 'Cuba']"
      ],
      "metadata": {
        "id": "0FWGGVlGAZk1"
      },
      "execution_count": null,
      "outputs": []
    },
    {
      "cell_type": "code",
      "source": [
        "# 1.3 Building your own reduced dataset\n",
        "adult_small = adult.iloc[69:79,]\n",
        "adult_small"
      ],
      "metadata": {
        "id": "xEkXeupfCaJl"
      },
      "execution_count": null,
      "outputs": []
    },
    {
      "cell_type": "code",
      "source": [
        "# 1.4 Column-Based Dimensionality Reduction\n",
        "#maritalstatus as index\n",
        "household3 = household.groupby('maritalstatus').apply(lambda x: x['relationship'].unique())\n",
        "household3\n",
        "\n",
        "#education as index\n",
        "degree3 = degree.groupby('education').apply(lambda x: x['educationyears'].unique())\n",
        "degree3"
      ],
      "metadata": {
        "id": "yrU4dxEVDDXt"
      },
      "execution_count": null,
      "outputs": []
    },
    {
      "cell_type": "code",
      "source": [
        "# 1.4 Row-Based Dimensionality Reduction\n",
        "# adult5 dataframe that contains only rows of male individuals.\n",
        "adult6 = adult\n",
        "adult6 = adult6.set_index('sex')\n",
        "adult6 = adult6.drop('Female', axis=0) # Delete all rows with label 'Female'\n",
        "adult6.head()"
      ],
      "metadata": {
        "id": "R3OcyGHYEGmN"
      },
      "execution_count": null,
      "outputs": []
    },
    {
      "cell_type": "markdown",
      "source": [
        "2. Transforming Data\n",
        "Index numbers are assigned based on the terms in alphabetical order."
      ],
      "metadata": {
        "id": "aocpNZwsGhHE"
      }
    }
  ]
}